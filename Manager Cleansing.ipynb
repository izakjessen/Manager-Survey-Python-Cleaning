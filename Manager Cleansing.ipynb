{
 "cells": [
  {
   "cell_type": "markdown",
   "id": "a0ec00c8",
   "metadata": {},
   "source": [
    "### Import Libraries and Excel File"
   ]
  },
  {
   "cell_type": "code",
   "execution_count": null,
   "id": "8984877a",
   "metadata": {},
   "outputs": [],
   "source": [
    "import pandas as pd \n",
    "import numpy as np"
   ]
  },
  {
   "cell_type": "code",
   "execution_count": null,
   "id": "b304f6b7",
   "metadata": {},
   "outputs": [],
   "source": [
    "df = pd.read_csv(r'C:\\Users\\jesse\\Ask a Manager Dataset\\Ask-A-Manager-Salary-Survey-2021-Responses-Form-Responses.csv',\n",
    "                converters={'employee_id': str.strip})"
   ]
  },
  {
   "cell_type": "markdown",
   "id": "ca4af98a",
   "metadata": {},
   "source": [
    "### Data Exploration"
   ]
  },
  {
   "cell_type": "code",
   "execution_count": null,
   "id": "cfb32f76",
   "metadata": {},
   "outputs": [],
   "source": [
    "df.shape"
   ]
  },
  {
   "cell_type": "code",
   "execution_count": null,
   "id": "aae99182",
   "metadata": {},
   "outputs": [],
   "source": [
    "df.columns"
   ]
  },
  {
   "cell_type": "code",
   "execution_count": null,
   "id": "da90f959",
   "metadata": {},
   "outputs": [],
   "source": [
    "df.columns = ['Date', 'Age', 'Industry', 'Job_Title', 'Job_Context', 'Annual_Salary', 'Bonuses/Overtime', 'Currency',\n",
    "              'Other_Currency', 'Income_Context', 'Business_Country', 'US_State', 'Business_City', 'Total_Experience',\n",
    "              'Total_Domain_Experience', 'Education_Level', 'Sex', 'Race']"
   ]
  },
  {
   "cell_type": "code",
   "execution_count": null,
   "id": "4ab60f0d",
   "metadata": {},
   "outputs": [],
   "source": [
    "df.head()"
   ]
  },
  {
   "cell_type": "code",
   "execution_count": null,
   "id": "dcfce624",
   "metadata": {},
   "outputs": [],
   "source": [
    "#find the ratio of missing data in specific columns\n",
    "\n",
    "df.isna().sum() / df.shape[0]"
   ]
  },
  {
   "cell_type": "code",
   "execution_count": null,
   "id": "263a92af",
   "metadata": {},
   "outputs": [],
   "source": [
    "df[df['Other_Currency'].notnull()]"
   ]
  },
  {
   "cell_type": "code",
   "execution_count": null,
   "id": "00188d48",
   "metadata": {},
   "outputs": [],
   "source": [
    "df[df['Income_Context'].notnull()]"
   ]
  },
  {
   "cell_type": "markdown",
   "id": "426ec71b",
   "metadata": {},
   "source": [
    "### Data Manipulation"
   ]
  },
  {
   "cell_type": "code",
   "execution_count": null,
   "id": "0e71e09e",
   "metadata": {},
   "outputs": [],
   "source": [
    "df.drop(['Other_Currency', 'Income_Context', 'US_State', 'Job_Context'], axis=1, inplace=True)"
   ]
  },
  {
   "cell_type": "code",
   "execution_count": null,
   "id": "d60fca37",
   "metadata": {},
   "outputs": [],
   "source": [
    "df['Date'] = pd.to_datetime(df['Date']).dt.date"
   ]
  },
  {
   "cell_type": "code",
   "execution_count": null,
   "id": "b6b0a7f8",
   "metadata": {},
   "outputs": [],
   "source": [
    "df['Bonuses/Overtime'].fillna(0, inplace=True)"
   ]
  },
  {
   "cell_type": "code",
   "execution_count": null,
   "id": "6dd8109b",
   "metadata": {},
   "outputs": [],
   "source": [
    "df.dtypes"
   ]
  },
  {
   "cell_type": "code",
   "execution_count": null,
   "id": "bcafeeb1",
   "metadata": {},
   "outputs": [],
   "source": [
    "df['Annual_Salary'] = df['Annual_Salary'].str.replace(',', '')\n",
    "df['Annual_Salary'] = df['Annual_Salary'].apply(pd.to_numeric)"
   ]
  },
  {
   "cell_type": "code",
   "execution_count": null,
   "id": "270f9af0",
   "metadata": {},
   "outputs": [],
   "source": [
    "df['Bonuses/Overtime'] = df['Bonuses/Overtime'].astype(int) "
   ]
  },
  {
   "cell_type": "code",
   "execution_count": null,
   "id": "8716d435",
   "metadata": {},
   "outputs": [],
   "source": [
    "df.head()"
   ]
  },
  {
   "cell_type": "code",
   "execution_count": null,
   "id": "9d17f371",
   "metadata": {},
   "outputs": [],
   "source": [
    "#import our list of countries for later dataframe cleaning\n",
    "\n",
    "country_list = pd.read_excel(r'C:\\Users\\jesse\\Country-List.xlsx')\n",
    "country_list.astype(str)"
   ]
  },
  {
   "cell_type": "code",
   "execution_count": null,
   "id": "db57cfbe",
   "metadata": {},
   "outputs": [],
   "source": [
    "df['Business_Country'] = df['Business_Country'].str.strip()"
   ]
  },
  {
   "cell_type": "code",
   "execution_count": null,
   "id": "7f13eff0",
   "metadata": {},
   "outputs": [],
   "source": [
    "df['Business_Country'].unique()"
   ]
  },
  {
   "cell_type": "code",
   "execution_count": null,
   "id": "07380830",
   "metadata": {},
   "outputs": [],
   "source": [
    "#map our country list to the dataframe to pick up any matching values before proceeding with cleaning\n",
    "\n",
    "maps = dict(zip(country_list['Country Name'], country_list['Country Code']))\n",
    "df['Business_Country'] = df['Business_Country'].map(maps).fillna(df['Business_Country'])"
   ]
  },
  {
   "cell_type": "markdown",
   "id": "10685efa",
   "metadata": {},
   "source": [
    "### Replace obscure country data with appropriate country code"
   ]
  },
  {
   "cell_type": "code",
   "execution_count": null,
   "id": "75114870",
   "metadata": {},
   "outputs": [],
   "source": [
    "df.loc[df['Business_Country'].str.contains(\n",
    "    'United St|Usa|States|Statez|Sates|America|U.S.A|U.S>|U. S.|U.A.|U.SA|Us|Us Of A|U.S.|U.S.|u.s.|U.s.|U. S|🇺🇸|Unitef Stated|California|San Francisco|Virginia|ISA|I.S.', \n",
    "                                           case=False, regex=True), 'Business_Country'] = 'US'\n",
    "df.loc[df['Business_Country'].str.contains(\n",
    "    'Scotland|United Kingdom|Uk|Great Britain|England|England/UK|England|Britain|U.K.|United Kindom|Great Britain|U.K|Unites kingdom|Wales|Englang|Hartford'\n",
    "    , \n",
    "                                           case=False, regex=True), 'Business_Country'] = 'GB'\n",
    "df.loc[df['Business_Country'].str.contains(\n",
    "    'canada|Canada|CANADA|Canadw|Can|Canda|Csnada|Canad', \n",
    "                                           case=False, regex=True), 'Business_Country'] = 'CA'\n",
    "df.loc[df['Business_Country'].str.contains(\n",
    "    'Zealand', \n",
    "                                           case=False, regex=True), 'Business_Country'] = 'NZ'\n",
    "df.loc[df['Business_Country'].str.contains(\n",
    "    'Netherlands|Nederland|netherlands', \n",
    "                                           case=False, regex=True), 'Business_Country'] = 'NL'\n",
    "df.loc[df['Business_Country'].str.contains(\n",
    "    'Ireland', \n",
    "                                           case=False, regex=True), 'Business_Country'] = 'IE'\n",
    "df.loc[df['Business_Country'].str.contains(\n",
    "    'czech republic|CZECH', \n",
    "                                           case=False, regex=True), 'Business_Country'] = 'CZ'\n",
    "df.loc[df['Business_Country'].str.contains(\n",
    "    'SWITZERLAND|switzerland', \n",
    "                                           case=False, regex=True), 'Business_Country'] = 'CH'\n",
    "df.loc[df['Business_Country'].str.contains(\n",
    "    'hong konh|japan', \n",
    "                                           case=False, regex=True), 'Business_Country'] = 'JP'\n",
    "df.loc[df['Business_Country'].str.contains(\n",
    "    'Africa|Cote d\\'Ivoire', \n",
    "                                           case=False, regex=True), 'Business_Country'] = 'CF'\n",
    "df.loc[df['Business_Country'].str.contains(\n",
    "    'South africa', \n",
    "                                           case=False, regex=True), 'Business_Country'] = 'ZA'\n",
    "df.loc[df['Business_Country'].str.contains(\n",
    "    'FRANCE|france', \n",
    "                                           case=False, regex=True), 'Business_Country'] = 'FR'\n",
    "df.loc[df['Business_Country'].str.contains(\n",
    "    'finland', \n",
    "                                           case=False, regex=True), 'Business_Country'] = 'FI'\n",
    "df.loc[df['Business_Country'].str.contains(\n",
    "    'Sri lanka', \n",
    "                                           case=False, regex=True), 'Business_Country'] = 'LK'\n",
    "df.loc[df['Business_Country'].str.contains(\n",
    "    'Catalonia|spain', \n",
    "                                           case=False, regex=True), 'Business_Country'] = 'ES'\n",
    "df.loc[df['Business_Country'].str.contains(\n",
    "    'South Korea', \n",
    "                                           case=False, regex=True), 'Business_Country'] = 'KR'\n",
    "df.loc[df['Business_Country'].str.contains(\n",
    "    'Danmark|denmark', \n",
    "                                           case=False, regex=True), 'Business_Country'] = 'DK'\n",
    "df.loc[df['Business_Country'].str.contains(\n",
    "    'The Bahamas', \n",
    "                                           case=False, regex=True), 'Business_Country'] = 'BS'\n",
    "df.loc[df['Business_Country'].str.contains(\n",
    "    'Brasil', \n",
    "                                           case=False, regex=True), 'Business_Country'] = 'BR'\n",
    "df.loc[df['Business_Country'].str.contains(\n",
    "    'singapore', \n",
    "                                           case=False, regex=True), 'Business_Country'] = 'SG'\n",
    "df.loc[df['Business_Country'].str.contains(\n",
    "    'Luxemburg', \n",
    "                                           case=False, regex=True), 'Business_Country'] = 'LU'\n",
    "df.loc[df['Business_Country'].str.contains(\n",
    "    'México', \n",
    "                                           case=False, regex=True), 'Business_Country'] = 'MX'\n",
    "df.loc[df['Business_Country'].str.contains(\n",
    "    'croatia', \n",
    "                                           case=False, regex=True), 'Business_Country'] = 'HR'\n",
    "df.loc[df['Business_Country'].str.contains(\n",
    "    'INDIA', \n",
    "                                           case=False, regex=True), 'Business_Country'] = 'IN'\n"
   ]
  },
  {
   "cell_type": "code",
   "execution_count": null,
   "id": "37b94445",
   "metadata": {},
   "outputs": [],
   "source": [
    "#replace non country data and drop from dataframe\n",
    "\n",
    "df.loc[df['Business_Country'].str.contains(\n",
    "    '$2,175.84|commission|brought in|remote|contracts|deducted|finance|na|Policy|Y|Global|United y|europe|UXZ', \n",
    "                                           case=False, regex=True), 'Business_Country'] = np.nan\n",
    "df.dropna(axis=0, how='any', subset=['Business_Country'], inplace=True)"
   ]
  },
  {
   "cell_type": "code",
   "execution_count": null,
   "id": "ca119910",
   "metadata": {
    "scrolled": true
   },
   "outputs": [],
   "source": [
    "df['Business_Country'].unique()"
   ]
  },
  {
   "cell_type": "code",
   "execution_count": null,
   "id": "f029e7b3",
   "metadata": {},
   "outputs": [],
   "source": [
    "df.columns"
   ]
  },
  {
   "cell_type": "code",
   "execution_count": null,
   "id": "9a4e84d7",
   "metadata": {},
   "outputs": [],
   "source": [
    "df.Total_Experience.unique()"
   ]
  },
  {
   "cell_type": "code",
   "execution_count": null,
   "id": "d396db41",
   "metadata": {},
   "outputs": [],
   "source": [
    "df.loc[df['Total_Experience'].str.contains('5-7 years',\n",
    "      case=False), 'Total_Experience'] = '5 - 7 years'"
   ]
  },
  {
   "cell_type": "code",
   "execution_count": null,
   "id": "f8d51ccf",
   "metadata": {},
   "outputs": [],
   "source": [
    "df.Age.unique()"
   ]
  },
  {
   "cell_type": "code",
   "execution_count": null,
   "id": "ea6cd8ac",
   "metadata": {},
   "outputs": [],
   "source": [
    "df.loc[df['Age'].str.contains('5 - 7 years',\n",
    "      case=False), 'Age'] = '5-7'"
   ]
  },
  {
   "cell_type": "code",
   "execution_count": null,
   "id": "6b7a6973",
   "metadata": {},
   "outputs": [],
   "source": [
    "df.Age.replace('-', ' - ', inplace=True)"
   ]
  },
  {
   "cell_type": "code",
   "execution_count": null,
   "id": "972c5c0b",
   "metadata": {},
   "outputs": [],
   "source": [
    "#make the 'Age' column consistent\n",
    "\n",
    "def insert_space(string):\n",
    "    s = string.strip()\n",
    "    return s.split('-')[0]+ ' - ' + s.split('-')[-1]\n",
    "df['Age'].apply(lambda x: insert_space(x))"
   ]
  },
  {
   "cell_type": "code",
   "execution_count": null,
   "id": "d0db0c8d",
   "metadata": {},
   "outputs": [],
   "source": [
    "df.Age.unique()"
   ]
  },
  {
   "cell_type": "code",
   "execution_count": null,
   "id": "e36b92c3",
   "metadata": {},
   "outputs": [],
   "source": [
    "df.loc[df['Industry'].isnull()]"
   ]
  },
  {
   "cell_type": "code",
   "execution_count": null,
   "id": "cba78fb7",
   "metadata": {},
   "outputs": [],
   "source": [
    "df.dropna(axis=0, how='any', subset=['Industry'], inplace=True)"
   ]
  },
  {
   "cell_type": "code",
   "execution_count": null,
   "id": "567aad3e",
   "metadata": {},
   "outputs": [],
   "source": [
    "df.Industry.isna().sum()"
   ]
  },
  {
   "cell_type": "code",
   "execution_count": null,
   "id": "e1cf1f42",
   "metadata": {},
   "outputs": [],
   "source": [
    "#drop empty rows from dataframe with empty info in 'Business_City', 'Education_Level', 'Sex', 'Race'\n",
    "\n",
    "df.dropna(axis=0, how='any', subset=['Business_City'], inplace=True)\n",
    "df.dropna(axis=0, how='any', subset=['Education_Level'], inplace=True)\n",
    "df.dropna(axis=0, how='any', subset=['Sex'], inplace=True)\n",
    "df.dropna(axis=0, how='any', subset=['Race'], inplace=True)"
   ]
  },
  {
   "cell_type": "code",
   "execution_count": null,
   "id": "86c32e8e",
   "metadata": {},
   "outputs": [],
   "source": [
    "df.shape"
   ]
  },
  {
   "cell_type": "code",
   "execution_count": null,
   "id": "7a2197b8",
   "metadata": {},
   "outputs": [],
   "source": [
    "df.isna().sum() / df.shape[0]"
   ]
  },
  {
   "cell_type": "markdown",
   "id": "a6e8e3f2",
   "metadata": {},
   "source": [
    "### Data Visualisation"
   ]
  },
  {
   "cell_type": "code",
   "execution_count": null,
   "id": "fe52914d",
   "metadata": {},
   "outputs": [],
   "source": [
    "import matplotlib.pyplot as plt"
   ]
  },
  {
   "cell_type": "code",
   "execution_count": null,
   "id": "0ca30c8a",
   "metadata": {},
   "outputs": [],
   "source": [
    "max(df.Annual_Salary)"
   ]
  },
  {
   "cell_type": "code",
   "execution_count": null,
   "id": "81187a41",
   "metadata": {},
   "outputs": [],
   "source": [
    "df[df.Annual_Salary == 870000000]"
   ]
  },
  {
   "cell_type": "code",
   "execution_count": null,
   "id": "147185d5",
   "metadata": {},
   "outputs": [],
   "source": [
    "df = df[df.Annual_Salary != 870000000]"
   ]
  },
  {
   "cell_type": "code",
   "execution_count": null,
   "id": "a1a46e3f",
   "metadata": {},
   "outputs": [],
   "source": [
    "df.Sex.unique()"
   ]
  },
  {
   "cell_type": "code",
   "execution_count": null,
   "id": "ea5f72b1",
   "metadata": {},
   "outputs": [],
   "source": [
    "df2 = df[(df.Sex != 'Other or prefer not to answer') & (df.Sex !='Prefer not to answer')]"
   ]
  },
  {
   "cell_type": "code",
   "execution_count": null,
   "id": "2f75459d",
   "metadata": {},
   "outputs": [],
   "source": [
    "df2.Sex.unique()"
   ]
  },
  {
   "cell_type": "code",
   "execution_count": null,
   "id": "57a84ffb",
   "metadata": {},
   "outputs": [],
   "source": [
    "import seaborn as sns\n",
    "sex_annual_salary = df2.groupby('Sex')['Annual_Salary'].mean()"
   ]
  },
  {
   "cell_type": "code",
   "execution_count": null,
   "id": "df457ac3",
   "metadata": {},
   "outputs": [],
   "source": [
    "sns.barplot(data=df2, x=sex_annual_salary.index, y=sex_annual_salary.values, order=['Man','Woman','Non-binary'], \n",
    "            palette=\"rocket_r\").set(title='Average Salary Difference by Sex')\n",
    "plt.show()"
   ]
  },
  {
   "cell_type": "code",
   "execution_count": null,
   "id": "1347e6f7",
   "metadata": {},
   "outputs": [],
   "source": [
    "x = df2.groupby(['Education_Level', 'Sex']).agg({'Annual_Salary':['mean'], 'Sex': ['count']}).reset_index()"
   ]
  },
  {
   "cell_type": "code",
   "execution_count": null,
   "id": "8d2c2eab",
   "metadata": {},
   "outputs": [],
   "source": [
    "x.columns = ['Education_Level', 'Gender', 'Annual_Salary', 'Gender_Count']"
   ]
  },
  {
   "cell_type": "code",
   "execution_count": null,
   "id": "f0f02fe7",
   "metadata": {},
   "outputs": [],
   "source": [
    "#grouped data in tabular format ready to export if need be\n",
    "\n",
    "x['Annual_Salary'] = round(x['Annual_Salary']).astype(int)\n",
    "x"
   ]
  },
  {
   "cell_type": "code",
   "execution_count": null,
   "id": "738e814e",
   "metadata": {},
   "outputs": [],
   "source": [
    "sns.barplot(data=x, y='Education_Level', x=x['Annual_Salary'].values.flatten(), \n",
    "            palette=\"rocket_r\", ci=None).set(title='Average Salary Difference by Education Level')\n",
    "plt.gca().axes.get_xaxis().set_visible(False)\n",
    "plt.show()"
   ]
  },
  {
   "cell_type": "code",
   "execution_count": null,
   "id": "790e97a8",
   "metadata": {},
   "outputs": [],
   "source": [
    "g = sns.catplot(data=x, x='Education_Level', y='Annual_Salary', col='Gender', kind='bar', palette=\"rocket_r\")\n",
    "g.set_xticklabels(rotation=90)\n",
    "g.set_axis_labels(\"\", \"Average Annual Salary\")"
   ]
  },
  {
   "cell_type": "code",
   "execution_count": null,
   "id": "3d87762d",
   "metadata": {},
   "outputs": [],
   "source": [
    "df.groupby('Race')['Annual_Salary'].mean().nlargest(n=5).plot(kind='barh', cmap='PiYG').set(\n",
    "title='Top 5 Highest Average Earners by Race')"
   ]
  },
  {
   "cell_type": "code",
   "execution_count": null,
   "id": "cbb261d2",
   "metadata": {},
   "outputs": [],
   "source": [
    "df.groupby('Age')['Annual_Salary'].mean().nlargest(n=5).plot(kind='bar', cmap='PiYG').set(\n",
    "title='Highest Average Earners by Age')"
   ]
  }
 ],
 "metadata": {
  "kernelspec": {
   "display_name": "Python 3",
   "language": "python",
   "name": "python3"
  },
  "language_info": {
   "codemirror_mode": {
    "name": "ipython",
    "version": 3
   },
   "file_extension": ".py",
   "mimetype": "text/x-python",
   "name": "python",
   "nbconvert_exporter": "python",
   "pygments_lexer": "ipython3",
   "version": "3.8.8"
  }
 },
 "nbformat": 4,
 "nbformat_minor": 5
}
